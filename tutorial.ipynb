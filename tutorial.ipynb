{
 "cells": [
  {
   "cell_type": "code",
   "execution_count": null,
   "id": "fb4cfd2a",
   "metadata": {},
   "outputs": [],
   "source": [
    "import darklight\n",
    "import tangos"
   ]
  },
  {
   "cell_type": "markdown",
   "id": "27e08f03",
   "metadata": {},
   "source": [
    "Import the simulation you'd like to run DarkLight on.  The following assumes that the database `Halo600.db` is in your current working directory.\n",
    "\n",
    "If analzying EDGE halos, see `tutorial-edge.ipynb` for notes on additional support in DarkLight for retrieving EDGE data on DiRAC or the Surrey servers. "
   ]
  },
  {
   "cell_type": "code",
   "execution_count": null,
   "id": "1f543779",
   "metadata": {},
   "outputs": [],
   "source": [
    "tangos.core.init_db('Halo600.db')\n",
    "sim = tangos.get_simulation('Halo600_fiducial')"
   ]
  },
  {
   "cell_type": "markdown",
   "id": "e11714e1",
   "metadata": {},
   "source": [
    "This simulation contains lots of dark matter halos, but one giant 'main' halo.  The rest of the halos are much smaller. The simulations are run for the age of the universe, ~13.8 Gyr, and saves a bunch of 'snapshots' of the halo as it evolves over time. \n",
    "\n",
    "What we do here is get the last snapshot (timesteps[-1]), which corresponds to the present day (i.e. a redshift z = 0), and get the most massive halo (halos[0]), which will always be the first halo in the list of all halos, which is ordered by mass."
   ]
  },
  {
   "cell_type": "code",
   "execution_count": null,
   "id": "cc724e49",
   "metadata": {},
   "outputs": [],
   "source": [
    "halo = sim.timesteps[-1].halos[0]"
   ]
  },
  {
   "cell_type": "markdown",
   "id": "77bceb24",
   "metadata": {},
   "source": [
    "Now that we have the halo, we can run DarkLight on it!"
   ]
  },
  {
   "cell_type": "code",
   "execution_count": null,
   "id": "0e9ff974",
   "metadata": {},
   "outputs": [],
   "source": [
    "t,z,vsmooth,sfh_insitu,mstar_insitu,mstar_total = darklight.DarkLight(halo)"
   ]
  },
  {
   "cell_type": "markdown",
   "id": "0b6eb3c8",
   "metadata": {},
   "source": [
    "The outputs are:\n",
    "\n",
    " - `t` = times [Gyr]\n",
    " - `z` = redshifts [unitless]\n",
    " - `vsmooth` = vmax over time, smoothed [km/s]\n",
    " - `sfh_insitu` = the star formation history of the galaxy that forms in this halo [Msun/yr]\n",
    " - `mstar_insitu` = integral of the (cumulative) in-situ star formation history [Msun]\n",
    " - `mstar_total` = total mass formed insitu + was accreted as little halos merged with this halo\n",
    "\n",
    "All of these output arrays are of the same length.\n",
    "\n",
    "I've created a function that takes the outputs from DarkLight and plots it against the values from the full hydrodynamic simulations. The stellar masses calculated by DarkLight usually match the values from the simulations to within a factor of two or so, but won't be an exact match."
   ]
  },
  {
   "cell_type": "code",
   "execution_count": null,
   "id": "aaf344f5",
   "metadata": {},
   "outputs": [],
   "source": [
    "darklight.edge.plot_darklight_vs_edge_mstar(halo,t,z,vsmooth,sfh_insitu,mstar_total,mstar_insitu=mstar_insitu,figfn='halo'+shortname+'.pdf')"
   ]
  },
  {
   "cell_type": "markdown",
   "id": "03ad2d09",
   "metadata": {},
   "source": [
    "In the above example, I've run it with the default DarkLight settings, but you can play with these settings by supplying some keyword arguments. Here's some of the keyword arguments it takes that changes the model that goes into DarkLight, and their default values.  Note that vmax = the maximum velocity in the rotation curve.\n",
    "\n",
    " - `zre = 4`, the redshift reionization shuts star formation off\n",
    " - `vthres = 26.3` [km/s], minimum vmax the halo must have to start forming stars again after reionization\n",
    " - `occupation = 2.5e7` [msun] the occupation fraction (i.e. what halos have galaxies) to assume.  By default, assumes all halos with a mass above the given value (in solar masses) have galaxies.  However, you can also ask DarkLight to assume all halos have galaxies (`'all'`), or use the occupation function from the EDGE1 sims (`'edge1'`), the EDGE1 RT sims (`'edge1rt'`), or a fit to observed Milky Way dwarfs (`'nadler20'`).\n",
    " - `pre_method = 'fiducial'`, the SFR-vmax relation to use before reionization\n",
    " - `post_method = 'schechter'`, the SFR-vmax relation to use after reionization\n",
    " - `post_scatter_method='increasing'`, what scatter to assume for the SFR-vmax relation after reionization\n",
    "\n",
    "There's also a few other parameters that you can modify:\n",
    "\n",
    " - `nscatter` = 0, the number of realizations of the halo's SFH to generate; by default, DarkLight generates one, trajectory, but setting this > 1 will generate that number of SFHs and M*(t)\n",
    " - `timesteps = sim` [Gyr], the time resolution to produce the SFH and thus M*(t), which by default will use the timesteps in the simulation.  You can instead also specify a timestep in units of Gyr.\n",
    " - `binning = 3bins`, which assigns single SFR before reionization based on its average vmax in that period (bin 1), zero after reionization when the halo's vmax < vthres (bin 2), and a single SFR if vmax > vthres based on its vmax at z=0 (bin 3).  You can also specify `'all'` to have it update the SFR based on the vmax at each timestep. \n",
    " - `DMO = False`, if you're running on a hydro sim or a dark matter only (DMO) sim.  If running on a DMO sim, multiplies particle masses by sqrt(1-fbary).\n",
    " - `mergers = True`, whether or not to include the contribution to M* from in-situ star formation, mergers, or both.  `True` includes both, `False` only the in-situ stars, and `'only'` only the accreted stars.\n",
    "\n",
    "Generally, you'll find that if you run with multiple realizations, the average of all those runs will better match the EDGE simulations than if you ran it only once.  Here's an example running DarkLight with multiple realizations:"
   ]
  },
  {
   "cell_type": "code",
   "execution_count": null,
   "id": "73c85735",
   "metadata": {},
   "outputs": [],
   "source": [
    "t,z,vsmooth,sfh_insitu,mstar_insitu,mstar_total = darklight.DarkLight(halo, nscatter=100)\n",
    "darklight.edge.plot_darklight_vs_edge_mstar(halo,t,z,vsmooth,sfh_insitu,mstar_total,mstar_insitu=mstar_insitu,figfn='halo'+shortname+'-scatter.pdf')"
   ]
  }
 ],
 "metadata": {
  "kernelspec": {
   "display_name": "Python 3 (ipykernel)",
   "language": "python",
   "name": "python3"
  },
  "language_info": {
   "codemirror_mode": {
    "name": "ipython",
    "version": 3
   },
   "file_extension": ".py",
   "mimetype": "text/x-python",
   "name": "python",
   "nbconvert_exporter": "python",
   "pygments_lexer": "ipython3",
   "version": "3.11.5"
  }
 },
 "nbformat": 4,
 "nbformat_minor": 5
}
